{
 "cells": [
  {
   "cell_type": "markdown",
   "metadata": {},
   "source": [
    "# Análise da base Airbnb"
   ]
  },
  {
   "cell_type": "markdown",
   "metadata": {},
   "source": [
    "Autor: Fernando Neves Quintino dos Santos"
   ]
  },
  {
   "cell_type": "code",
   "execution_count": 709,
   "metadata": {},
   "outputs": [],
   "source": [
    "import os\n",
    "import datetime as dt\n",
    "import numpy as np\n",
    "import pandas as pd\n",
    "import matplotlib.pyplot as plt\n",
    "import seaborn as sns\n",
    "import statsmodels.api as sm\n",
    "import nltk\n",
    "\n",
    "import matplotlib.lines as mlines\n",
    "import matplotlib.transforms as mtransforms\n",
    "from matplotlib.colors import rgb2hex\n",
    "\n",
    "from itertools import chain\n",
    "\n",
    "from branca.colormap import linear, LinearColormap\n",
    "from statsmodels.formula.api import ols\n",
    "from IPython.display import Markdown, IFrame\n",
    "\n",
    "from sklearn.model_selection import train_test_split, GridSearchCV\n",
    "from sklearn.dummy import DummyRegressor\n",
    "from sklearn.linear_model import LinearRegression\n",
    "from sklearn.linear_model import GammaRegressor\n",
    "from sklearn.metrics import mean_squared_error, mean_gamma_deviance, mean_absolute_percentage_error\n",
    "from sklearn.impute import SimpleImputer\n",
    "from sklearn.pipeline import make_pipeline\n",
    "from sklearn.compose import ColumnTransformer\n",
    "from sklearn.preprocessing import OneHotEncoder\n",
    "from sklearn.preprocessing import StandardScaler\n",
    "from sklearn.pipeline import Pipeline\n",
    "\n",
    "from lightgbm import LGBMRegressor\n",
    "\n",
    "from scipy.stats import expon"
   ]
  },
  {
   "cell_type": "markdown",
   "metadata": {},
   "source": [
    "# A predição do preço foi escolhida para modelagem"
   ]
  },
  {
   "cell_type": "markdown",
   "metadata": {},
   "source": [
    "## Bases"
   ]
  },
  {
   "cell_type": "markdown",
   "metadata": {},
   "source": [
    "Existem 5 diferentes bases, mas a base lisitings é a mais completa enquanto as outras possuem poucas informações. Apenas ela será utilizada."
   ]
  },
  {
   "cell_type": "markdown",
   "metadata": {},
   "source": [
    "### Base listings"
   ]
  },
  {
   "cell_type": "code",
   "execution_count": 648,
   "metadata": {},
   "outputs": [],
   "source": [
    "listings=pd.read_csv('http://data.insideairbnb.com/brazil/rj/rio-de-janeiro/2020-12-23/data/listings.csv.gz')"
   ]
  },
  {
   "cell_type": "code",
   "execution_count": 649,
   "metadata": {},
   "outputs": [
    {
     "data": {
      "text/html": [
       "<div>\n",
       "<style scoped>\n",
       "    .dataframe tbody tr th:only-of-type {\n",
       "        vertical-align: middle;\n",
       "    }\n",
       "\n",
       "    .dataframe tbody tr th {\n",
       "        vertical-align: top;\n",
       "    }\n",
       "\n",
       "    .dataframe thead th {\n",
       "        text-align: right;\n",
       "    }\n",
       "</style>\n",
       "<table border=\"1\" class=\"dataframe\">\n",
       "  <thead>\n",
       "    <tr style=\"text-align: right;\">\n",
       "      <th></th>\n",
       "      <th>id</th>\n",
       "      <th>listing_url</th>\n",
       "      <th>scrape_id</th>\n",
       "      <th>last_scraped</th>\n",
       "      <th>name</th>\n",
       "      <th>description</th>\n",
       "      <th>neighborhood_overview</th>\n",
       "      <th>picture_url</th>\n",
       "      <th>host_id</th>\n",
       "      <th>host_url</th>\n",
       "      <th>...</th>\n",
       "      <th>review_scores_communication</th>\n",
       "      <th>review_scores_location</th>\n",
       "      <th>review_scores_value</th>\n",
       "      <th>license</th>\n",
       "      <th>instant_bookable</th>\n",
       "      <th>calculated_host_listings_count</th>\n",
       "      <th>calculated_host_listings_count_entire_homes</th>\n",
       "      <th>calculated_host_listings_count_private_rooms</th>\n",
       "      <th>calculated_host_listings_count_shared_rooms</th>\n",
       "      <th>reviews_per_month</th>\n",
       "    </tr>\n",
       "  </thead>\n",
       "  <tbody>\n",
       "    <tr>\n",
       "      <th>0</th>\n",
       "      <td>17878</td>\n",
       "      <td>https://www.airbnb.com/rooms/17878</td>\n",
       "      <td>20201223235510</td>\n",
       "      <td>2020-12-30</td>\n",
       "      <td>Very Nice 2Br in Copacabana w. balcony, fast WiFi</td>\n",
       "      <td>Discounts for long term stays. &lt;br /&gt;- Large b...</td>\n",
       "      <td>This is the one of the bests spots in Rio. Bec...</td>\n",
       "      <td>https://a0.muscache.com/pictures/65320518/3069...</td>\n",
       "      <td>68997</td>\n",
       "      <td>https://www.airbnb.com/users/show/68997</td>\n",
       "      <td>...</td>\n",
       "      <td>10.0</td>\n",
       "      <td>10.0</td>\n",
       "      <td>9.0</td>\n",
       "      <td>NaN</td>\n",
       "      <td>t</td>\n",
       "      <td>1</td>\n",
       "      <td>1</td>\n",
       "      <td>0</td>\n",
       "      <td>0</td>\n",
       "      <td>2.03</td>\n",
       "    </tr>\n",
       "    <tr>\n",
       "      <th>1</th>\n",
       "      <td>25026</td>\n",
       "      <td>https://www.airbnb.com/rooms/25026</td>\n",
       "      <td>20201223235510</td>\n",
       "      <td>2020-12-24</td>\n",
       "      <td>Beautiful Modern Decorated Studio in Copa</td>\n",
       "      <td>Our apartment is a little gem, everyone loves ...</td>\n",
       "      <td>Copacabana is a lively neighborhood and the ap...</td>\n",
       "      <td>https://a0.muscache.com/pictures/3003965/68ebb...</td>\n",
       "      <td>3746246</td>\n",
       "      <td>https://www.airbnb.com/users/show/3746246</td>\n",
       "      <td>...</td>\n",
       "      <td>10.0</td>\n",
       "      <td>10.0</td>\n",
       "      <td>9.0</td>\n",
       "      <td>NaN</td>\n",
       "      <td>f</td>\n",
       "      <td>11</td>\n",
       "      <td>11</td>\n",
       "      <td>0</td>\n",
       "      <td>0</td>\n",
       "      <td>1.85</td>\n",
       "    </tr>\n",
       "    <tr>\n",
       "      <th>2</th>\n",
       "      <td>35636</td>\n",
       "      <td>https://www.airbnb.com/rooms/35636</td>\n",
       "      <td>20201223235510</td>\n",
       "      <td>2020-12-24</td>\n",
       "      <td>Cosy flat close to Ipanema beach</td>\n",
       "      <td>This cosy apartment  is just a few steps away ...</td>\n",
       "      <td>The  apartment street is very quiet and safe ....</td>\n",
       "      <td>https://a0.muscache.com/pictures/20009355/38b6...</td>\n",
       "      <td>153232</td>\n",
       "      <td>https://www.airbnb.com/users/show/153232</td>\n",
       "      <td>...</td>\n",
       "      <td>10.0</td>\n",
       "      <td>10.0</td>\n",
       "      <td>9.0</td>\n",
       "      <td>NaN</td>\n",
       "      <td>f</td>\n",
       "      <td>1</td>\n",
       "      <td>1</td>\n",
       "      <td>0</td>\n",
       "      <td>0</td>\n",
       "      <td>2.07</td>\n",
       "    </tr>\n",
       "  </tbody>\n",
       "</table>\n",
       "<p>3 rows × 74 columns</p>\n",
       "</div>"
      ],
      "text/plain": [
       "      id                         listing_url       scrape_id last_scraped  \\\n",
       "0  17878  https://www.airbnb.com/rooms/17878  20201223235510   2020-12-30   \n",
       "1  25026  https://www.airbnb.com/rooms/25026  20201223235510   2020-12-24   \n",
       "2  35636  https://www.airbnb.com/rooms/35636  20201223235510   2020-12-24   \n",
       "\n",
       "                                                name  \\\n",
       "0  Very Nice 2Br in Copacabana w. balcony, fast WiFi   \n",
       "1          Beautiful Modern Decorated Studio in Copa   \n",
       "2                   Cosy flat close to Ipanema beach   \n",
       "\n",
       "                                         description  \\\n",
       "0  Discounts for long term stays. <br />- Large b...   \n",
       "1  Our apartment is a little gem, everyone loves ...   \n",
       "2  This cosy apartment  is just a few steps away ...   \n",
       "\n",
       "                               neighborhood_overview  \\\n",
       "0  This is the one of the bests spots in Rio. Bec...   \n",
       "1  Copacabana is a lively neighborhood and the ap...   \n",
       "2  The  apartment street is very quiet and safe ....   \n",
       "\n",
       "                                         picture_url  host_id  \\\n",
       "0  https://a0.muscache.com/pictures/65320518/3069...    68997   \n",
       "1  https://a0.muscache.com/pictures/3003965/68ebb...  3746246   \n",
       "2  https://a0.muscache.com/pictures/20009355/38b6...   153232   \n",
       "\n",
       "                                    host_url  ... review_scores_communication  \\\n",
       "0    https://www.airbnb.com/users/show/68997  ...                        10.0   \n",
       "1  https://www.airbnb.com/users/show/3746246  ...                        10.0   \n",
       "2   https://www.airbnb.com/users/show/153232  ...                        10.0   \n",
       "\n",
       "  review_scores_location review_scores_value license instant_bookable  \\\n",
       "0                   10.0                 9.0     NaN                t   \n",
       "1                   10.0                 9.0     NaN                f   \n",
       "2                   10.0                 9.0     NaN                f   \n",
       "\n",
       "  calculated_host_listings_count calculated_host_listings_count_entire_homes  \\\n",
       "0                              1                                           1   \n",
       "1                             11                                          11   \n",
       "2                              1                                           1   \n",
       "\n",
       "  calculated_host_listings_count_private_rooms  \\\n",
       "0                                            0   \n",
       "1                                            0   \n",
       "2                                            0   \n",
       "\n",
       "  calculated_host_listings_count_shared_rooms reviews_per_month  \n",
       "0                                           0              2.03  \n",
       "1                                           0              1.85  \n",
       "2                                           0              2.07  \n",
       "\n",
       "[3 rows x 74 columns]"
      ]
     },
     "execution_count": 649,
     "metadata": {},
     "output_type": "execute_result"
    }
   ],
   "source": [
    "listings.head(3)"
   ]
  },
  {
   "cell_type": "code",
   "execution_count": 650,
   "metadata": {},
   "outputs": [
    {
     "name": "stdout",
     "output_type": "stream",
     "text": [
      "<class 'pandas.core.frame.DataFrame'>\n",
      "RangeIndex: 25784 entries, 0 to 25783\n",
      "Data columns (total 74 columns):\n",
      " #   Column                                        Non-Null Count  Dtype  \n",
      "---  ------                                        --------------  -----  \n",
      " 0   id                                            25784 non-null  int64  \n",
      " 1   listing_url                                   25784 non-null  object \n",
      " 2   scrape_id                                     25784 non-null  int64  \n",
      " 3   last_scraped                                  25784 non-null  object \n",
      " 4   name                                          25755 non-null  object \n",
      " 5   description                                   24423 non-null  object \n",
      " 6   neighborhood_overview                         14109 non-null  object \n",
      " 7   picture_url                                   25784 non-null  object \n",
      " 8   host_id                                       25784 non-null  int64  \n",
      " 9   host_url                                      25784 non-null  object \n",
      " 10  host_name                                     25776 non-null  object \n",
      " 11  host_since                                    25776 non-null  object \n",
      " 12  host_location                                 25692 non-null  object \n",
      " 13  host_about                                    12758 non-null  object \n",
      " 14  host_response_time                            19372 non-null  object \n",
      " 15  host_response_rate                            19372 non-null  object \n",
      " 16  host_acceptance_rate                          18700 non-null  object \n",
      " 17  host_is_superhost                             25776 non-null  object \n",
      " 18  host_thumbnail_url                            25776 non-null  object \n",
      " 19  host_picture_url                              25776 non-null  object \n",
      " 20  host_neighbourhood                            15058 non-null  object \n",
      " 21  host_listings_count                           25776 non-null  float64\n",
      " 22  host_total_listings_count                     25776 non-null  float64\n",
      " 23  host_verifications                            25784 non-null  object \n",
      " 24  host_has_profile_pic                          25776 non-null  object \n",
      " 25  host_identity_verified                        25776 non-null  object \n",
      " 26  neighbourhood                                 14109 non-null  object \n",
      " 27  neighbourhood_cleansed                        25784 non-null  object \n",
      " 28  neighbourhood_group_cleansed                  0 non-null      float64\n",
      " 29  latitude                                      25784 non-null  float64\n",
      " 30  longitude                                     25784 non-null  float64\n",
      " 31  property_type                                 25784 non-null  object \n",
      " 32  room_type                                     25784 non-null  object \n",
      " 33  accommodates                                  25784 non-null  int64  \n",
      " 34  bathrooms                                     0 non-null      float64\n",
      " 35  bathrooms_text                                25714 non-null  object \n",
      " 36  bedrooms                                      24058 non-null  float64\n",
      " 37  beds                                          25546 non-null  float64\n",
      " 38  amenities                                     25784 non-null  object \n",
      " 39  price                                         25784 non-null  object \n",
      " 40  minimum_nights                                25784 non-null  int64  \n",
      " 41  maximum_nights                                25784 non-null  int64  \n",
      " 42  minimum_minimum_nights                        25784 non-null  int64  \n",
      " 43  maximum_minimum_nights                        25784 non-null  int64  \n",
      " 44  minimum_maximum_nights                        25784 non-null  int64  \n",
      " 45  maximum_maximum_nights                        25784 non-null  int64  \n",
      " 46  minimum_nights_avg_ntm                        25784 non-null  float64\n",
      " 47  maximum_nights_avg_ntm                        25784 non-null  float64\n",
      " 48  calendar_updated                              0 non-null      float64\n",
      " 49  has_availability                              25784 non-null  object \n",
      " 50  availability_30                               25784 non-null  int64  \n",
      " 51  availability_60                               25784 non-null  int64  \n",
      " 52  availability_90                               25784 non-null  int64  \n",
      " 53  availability_365                              25784 non-null  int64  \n",
      " 54  calendar_last_scraped                         25784 non-null  object \n",
      " 55  number_of_reviews                             25784 non-null  int64  \n",
      " 56  number_of_reviews_ltm                         25784 non-null  int64  \n",
      " 57  number_of_reviews_l30d                        25784 non-null  int64  \n",
      " 58  first_review                                  15852 non-null  object \n",
      " 59  last_review                                   15852 non-null  object \n",
      " 60  review_scores_rating                          15302 non-null  float64\n",
      " 61  review_scores_accuracy                        15288 non-null  float64\n",
      " 62  review_scores_cleanliness                     15291 non-null  float64\n",
      " 63  review_scores_checkin                         15289 non-null  float64\n",
      " 64  review_scores_communication                   15294 non-null  float64\n",
      " 65  review_scores_location                        15289 non-null  float64\n",
      " 66  review_scores_value                           15291 non-null  float64\n",
      " 67  license                                       0 non-null      float64\n",
      " 68  instant_bookable                              25784 non-null  object \n",
      " 69  calculated_host_listings_count                25784 non-null  int64  \n",
      " 70  calculated_host_listings_count_entire_homes   25784 non-null  int64  \n",
      " 71  calculated_host_listings_count_private_rooms  25784 non-null  int64  \n",
      " 72  calculated_host_listings_count_shared_rooms   25784 non-null  int64  \n",
      " 73  reviews_per_month                             15852 non-null  float64\n",
      "dtypes: float64(20), int64(21), object(33)\n",
      "memory usage: 14.6+ MB\n"
     ]
    }
   ],
   "source": [
    "listings.info()"
   ]
  },
  {
   "cell_type": "markdown",
   "metadata": {},
   "source": [
    "### Variáveis de interesse:"
   ]
  },
  {
   "cell_type": "markdown",
   "metadata": {},
   "source": [
    "Diversas variáveis podem influir no preço, mas apenas algumas foram selecionadas numa tentativa de simplificar a modelagem. Essa triagem foi feita pela experiência do autor. Ex. número de banheiros é mais relevante na montagem do preço do que se o host tem foto.\n",
    "\n",
    "Lista de variáveis escolhidas:\n",
    "\n",
    "* bathrooms_text\n",
    "* property_type\n",
    "* room_type\n",
    "* host_verifications\n",
    "* accommodates\n",
    "* amenities\n",
    "* minimum_nights\n",
    "* maximum_nights\n",
    "* minimum_minimum_nights\n",
    "* maximum_minimum_nights\n",
    "* minimum_maximum_nights\n",
    "* maximum_maximum_nights\n",
    "* minimum_nights_avg_ntm\n",
    "* maximum_nights_avg_ntm\n",
    "* calculated_host_listings_count\n",
    "* calculated_host_listings_count_entire_homes\n",
    "* calculated_host_listings_count_private_rooms\n",
    "* calculated_host_listings_count_shared_rooms\n",
    "* reviews_per_month\n",
    "* has_availability\n",
    "* availability_30\n",
    "* availability_60\n",
    "* availability_90\n",
    "* availability_365"
   ]
  },
  {
   "cell_type": "code",
   "execution_count": 651,
   "metadata": {},
   "outputs": [],
   "source": [
    "listings_red=listings.iloc[:,[29,30,31,32,33,35,36,37,38,39,50,51,52,53,73]]"
   ]
  },
  {
   "cell_type": "code",
   "execution_count": 652,
   "metadata": {},
   "outputs": [
    {
     "name": "stdout",
     "output_type": "stream",
     "text": [
      "<class 'pandas.core.frame.DataFrame'>\n",
      "RangeIndex: 25784 entries, 0 to 25783\n",
      "Data columns (total 15 columns):\n",
      " #   Column             Non-Null Count  Dtype  \n",
      "---  ------             --------------  -----  \n",
      " 0   latitude           25784 non-null  float64\n",
      " 1   longitude          25784 non-null  float64\n",
      " 2   property_type      25784 non-null  object \n",
      " 3   room_type          25784 non-null  object \n",
      " 4   accommodates       25784 non-null  int64  \n",
      " 5   bathrooms_text     25714 non-null  object \n",
      " 6   bedrooms           24058 non-null  float64\n",
      " 7   beds               25546 non-null  float64\n",
      " 8   amenities          25784 non-null  object \n",
      " 9   price              25784 non-null  object \n",
      " 10  availability_30    25784 non-null  int64  \n",
      " 11  availability_60    25784 non-null  int64  \n",
      " 12  availability_90    25784 non-null  int64  \n",
      " 13  availability_365   25784 non-null  int64  \n",
      " 14  reviews_per_month  15852 non-null  float64\n",
      "dtypes: float64(5), int64(5), object(5)\n",
      "memory usage: 3.0+ MB\n"
     ]
    }
   ],
   "source": [
    "listings_red.info()"
   ]
  },
  {
   "cell_type": "markdown",
   "metadata": {},
   "source": [
    "# Tratamento das variáveis numéricas"
   ]
  },
  {
   "cell_type": "markdown",
   "metadata": {},
   "source": [
    "## Variável preço"
   ]
  },
  {
   "cell_type": "markdown",
   "metadata": {},
   "source": [
    "### Conversão em variável numérica"
   ]
  },
  {
   "cell_type": "code",
   "execution_count": 653,
   "metadata": {},
   "outputs": [
    {
     "name": "stderr",
     "output_type": "stream",
     "text": [
      "C:\\ProgramData\\Anaconda3\\lib\\site-packages\\ipykernel_launcher.py:1: FutureWarning: The default value of regex will change from True to False in a future version.\n",
      "  \"\"\"Entry point for launching an IPython kernel.\n",
      "C:\\ProgramData\\Anaconda3\\lib\\site-packages\\ipykernel_launcher.py:1: SettingWithCopyWarning: \n",
      "A value is trying to be set on a copy of a slice from a DataFrame.\n",
      "Try using .loc[row_indexer,col_indexer] = value instead\n",
      "\n",
      "See the caveats in the documentation: https://pandas.pydata.org/pandas-docs/stable/user_guide/indexing.html#returning-a-view-versus-a-copy\n",
      "  \"\"\"Entry point for launching an IPython kernel.\n"
     ]
    }
   ],
   "source": [
    "listings_red['price']=listings_red['price'].str.replace('[$,]','').astype(float)"
   ]
  },
  {
   "cell_type": "markdown",
   "metadata": {},
   "source": [
    "### Verificação de outliers"
   ]
  },
  {
   "cell_type": "markdown",
   "metadata": {},
   "source": [
    "Criação da variável preço por pessoa, que é uma métrica mais verossímel para algumas análises."
   ]
  },
  {
   "cell_type": "code",
   "execution_count": 654,
   "metadata": {},
   "outputs": [
    {
     "name": "stderr",
     "output_type": "stream",
     "text": [
      "C:\\ProgramData\\Anaconda3\\lib\\site-packages\\ipykernel_launcher.py:1: SettingWithCopyWarning: \n",
      "A value is trying to be set on a copy of a slice from a DataFrame.\n",
      "Try using .loc[row_indexer,col_indexer] = value instead\n",
      "\n",
      "See the caveats in the documentation: https://pandas.pydata.org/pandas-docs/stable/user_guide/indexing.html#returning-a-view-versus-a-copy\n",
      "  \"\"\"Entry point for launching an IPython kernel.\n"
     ]
    }
   ],
   "source": [
    "listings_red['price_person']=listings_red['price'].div(listings_red['accommodates'])"
   ]
  },
  {
   "cell_type": "code",
   "execution_count": 655,
   "metadata": {},
   "outputs": [
    {
     "data": {
      "text/plain": [
       "66.66666666666667"
      ]
     },
     "execution_count": 655,
     "metadata": {},
     "output_type": "execute_result"
    }
   ],
   "source": [
    "listings_red.price_person.quantile(.25)"
   ]
  },
  {
   "cell_type": "code",
   "execution_count": 656,
   "metadata": {},
   "outputs": [
    {
     "data": {
      "text/plain": [
       "188.0"
      ]
     },
     "execution_count": 656,
     "metadata": {},
     "output_type": "execute_result"
    }
   ],
   "source": [
    "listings_red.price_person.quantile(.75)"
   ]
  },
  {
   "cell_type": "code",
   "execution_count": 657,
   "metadata": {},
   "outputs": [
    {
     "data": {
      "text/plain": [
       "118653.2"
      ]
     },
     "execution_count": 657,
     "metadata": {},
     "output_type": "execute_result"
    }
   ],
   "source": [
    "listings_red.price_person.max()"
   ]
  },
  {
   "cell_type": "markdown",
   "metadata": {},
   "source": [
    "Aparentemente existem valores estranhos. Eles serão filtrados usando tuckey fences."
   ]
  },
  {
   "cell_type": "code",
   "execution_count": 658,
   "metadata": {},
   "outputs": [],
   "source": [
    "q_low=listings_red[\"price_person\"].quantile(0.25)\n",
    "q_hi=listings_red[\"price_person\"].quantile(0.75)\n",
    "iqr=q_hi-q_low\n",
    "\n",
    "list_o=listings_red[((listings_red['price_person']) > (q_low-iqr)) & ((listings_red['price_person']) < (q_hi+iqr))]"
   ]
  },
  {
   "cell_type": "markdown",
   "metadata": {},
   "source": [
    "Variável list_o criada contemplando os dados sem outliers"
   ]
  },
  {
   "cell_type": "code",
   "execution_count": 659,
   "metadata": {},
   "outputs": [
    {
     "data": {
      "text/plain": [
       "4643.0"
      ]
     },
     "execution_count": 659,
     "metadata": {},
     "output_type": "execute_result"
    }
   ],
   "source": [
    "list_o.price.max()"
   ]
  },
  {
   "cell_type": "code",
   "execution_count": 660,
   "metadata": {},
   "outputs": [],
   "source": [
    "i_i,z=list_o.shape"
   ]
  },
  {
   "cell_type": "code",
   "execution_count": 661,
   "metadata": {},
   "outputs": [],
   "source": [
    "i_o,z=listings_red.shape"
   ]
  },
  {
   "cell_type": "code",
   "execution_count": 662,
   "metadata": {},
   "outputs": [
    {
     "data": {
      "text/plain": [
       "0.10715947874650944"
      ]
     },
     "execution_count": 662,
     "metadata": {},
     "output_type": "execute_result"
    }
   ],
   "source": [
    "1-i_i/i_o"
   ]
  },
  {
   "cell_type": "markdown",
   "metadata": {},
   "source": [
    "Apenas 10.7 % dos dados foram perdidos, o que não justificar imputar tais dados."
   ]
  },
  {
   "cell_type": "code",
   "execution_count": 663,
   "metadata": {},
   "outputs": [
    {
     "name": "stdout",
     "output_type": "stream",
     "text": [
      "<class 'pandas.core.frame.DataFrame'>\n",
      "Int64Index: 23021 entries, 0 to 25783\n",
      "Data columns (total 16 columns):\n",
      " #   Column             Non-Null Count  Dtype  \n",
      "---  ------             --------------  -----  \n",
      " 0   latitude           23021 non-null  float64\n",
      " 1   longitude          23021 non-null  float64\n",
      " 2   property_type      23021 non-null  object \n",
      " 3   room_type          23021 non-null  object \n",
      " 4   accommodates       23021 non-null  int64  \n",
      " 5   bathrooms_text     22974 non-null  object \n",
      " 6   bedrooms           21407 non-null  float64\n",
      " 7   beds               22814 non-null  float64\n",
      " 8   amenities          23021 non-null  object \n",
      " 9   price              23021 non-null  float64\n",
      " 10  availability_30    23021 non-null  int64  \n",
      " 11  availability_60    23021 non-null  int64  \n",
      " 12  availability_90    23021 non-null  int64  \n",
      " 13  availability_365   23021 non-null  int64  \n",
      " 14  reviews_per_month  14935 non-null  float64\n",
      " 15  price_person       23021 non-null  float64\n",
      "dtypes: float64(7), int64(5), object(4)\n",
      "memory usage: 3.0+ MB\n"
     ]
    }
   ],
   "source": [
    "list_o.info()"
   ]
  },
  {
   "cell_type": "markdown",
   "metadata": {},
   "source": [
    "## Variável banheiro"
   ]
  },
  {
   "cell_type": "markdown",
   "metadata": {},
   "source": [
    "### Conversão em variável numérica"
   ]
  },
  {
   "cell_type": "code",
   "execution_count": 664,
   "metadata": {},
   "outputs": [
    {
     "data": {
      "text/plain": [
       "0            1 bath\n",
       "1            1 bath\n",
       "2         1.5 baths\n",
       "3            1 bath\n",
       "4            1 bath\n",
       "6    1 private bath\n",
       "7         3.5 baths\n",
       "8            1 bath\n",
       "Name: bathrooms_text, dtype: object"
      ]
     },
     "execution_count": 664,
     "metadata": {},
     "output_type": "execute_result"
    }
   ],
   "source": [
    "list_o.bathrooms_text.head(8)"
   ]
  },
  {
   "cell_type": "code",
   "execution_count": 665,
   "metadata": {},
   "outputs": [
    {
     "data": {
      "text/plain": [
       "count      22974\n",
       "unique        44\n",
       "top       1 bath\n",
       "freq        9523\n",
       "Name: bathrooms_text, dtype: object"
      ]
     },
     "execution_count": 665,
     "metadata": {},
     "output_type": "execute_result"
    }
   ],
   "source": [
    "list_o.bathrooms_text.describe()"
   ]
  },
  {
   "cell_type": "markdown",
   "metadata": {},
   "source": [
    "A variável banheiro é um objeto com 44 categorias. No tratamento o valor numérico será considerado."
   ]
  },
  {
   "cell_type": "code",
   "execution_count": 666,
   "metadata": {},
   "outputs": [],
   "source": [
    "baths = list_o['bathrooms_text'].value_counts().to_frame()"
   ]
  },
  {
   "cell_type": "code",
   "execution_count": 667,
   "metadata": {},
   "outputs": [],
   "source": [
    "baths['baths'] = baths.index.str.extract('([0-9\\.]{1,3}[0-9]?)').values"
   ]
  },
  {
   "cell_type": "code",
   "execution_count": 668,
   "metadata": {},
   "outputs": [
    {
     "name": "stderr",
     "output_type": "stream",
     "text": [
      "C:\\ProgramData\\Anaconda3\\lib\\site-packages\\ipykernel_launcher.py:1: SettingWithCopyWarning: \n",
      "A value is trying to be set on a copy of a slice from a DataFrame.\n",
      "Try using .loc[row_indexer,col_indexer] = value instead\n",
      "\n",
      "See the caveats in the documentation: https://pandas.pydata.org/pandas-docs/stable/user_guide/indexing.html#returning-a-view-versus-a-copy\n",
      "  \"\"\"Entry point for launching an IPython kernel.\n"
     ]
    }
   ],
   "source": [
    "list_o['baths'] = list_o['bathrooms_text'].map(baths['baths'].to_dict()).astype(float)"
   ]
  },
  {
   "cell_type": "markdown",
   "metadata": {},
   "source": [
    "### Verificação de outliers"
   ]
  },
  {
   "cell_type": "code",
   "execution_count": 669,
   "metadata": {},
   "outputs": [
    {
     "data": {
      "text/plain": [
       "0.0"
      ]
     },
     "execution_count": 669,
     "metadata": {},
     "output_type": "execute_result"
    }
   ],
   "source": [
    "list_o['baths'].min()"
   ]
  },
  {
   "cell_type": "code",
   "execution_count": 670,
   "metadata": {},
   "outputs": [
    {
     "data": {
      "text/plain": [
       "20.0"
      ]
     },
     "execution_count": 670,
     "metadata": {},
     "output_type": "execute_result"
    }
   ],
   "source": [
    "list_o['baths'].max()"
   ]
  },
  {
   "cell_type": "markdown",
   "metadata": {},
   "source": [
    "Aparentemente não há outliers na variável baths."
   ]
  },
  {
   "cell_type": "code",
   "execution_count": 671,
   "metadata": {},
   "outputs": [
    {
     "name": "stderr",
     "output_type": "stream",
     "text": [
      "C:\\Users\\fernando\\AppData\\Roaming\\Python\\Python37\\site-packages\\pandas\\core\\frame.py:4315: SettingWithCopyWarning: \n",
      "A value is trying to be set on a copy of a slice from a DataFrame\n",
      "\n",
      "See the caveats in the documentation: https://pandas.pydata.org/pandas-docs/stable/user_guide/indexing.html#returning-a-view-versus-a-copy\n",
      "  errors=errors,\n"
     ]
    }
   ],
   "source": [
    "list_o.drop('bathrooms_text',axis=1,inplace=True)"
   ]
  },
  {
   "cell_type": "markdown",
   "metadata": {},
   "source": [
    "# Definição de novas variáveis"
   ]
  },
  {
   "cell_type": "markdown",
   "metadata": {},
   "source": [
    "Além do preço por pessoa (price_person), é interessante calcular quartos, camas e banheiros por pessoa."
   ]
  },
  {
   "cell_type": "code",
   "execution_count": 672,
   "metadata": {},
   "outputs": [],
   "source": [
    "list_f['bedrooms_person']=list_f['bedrooms'].div(list_f['accommodates'])\n",
    "list_f['beds_person']=list_f['beds'].div(list_f['accommodates'])\n",
    "list_f['baths_person']=list_f['baths'].div(list_f['accommodates'])"
   ]
  },
  {
   "cell_type": "code",
   "execution_count": 673,
   "metadata": {},
   "outputs": [
    {
     "name": "stdout",
     "output_type": "stream",
     "text": [
      "<class 'pandas.core.frame.DataFrame'>\n",
      "Int64Index: 23021 entries, 0 to 25783\n",
      "Data columns (total 20 columns):\n",
      " #   Column                   Non-Null Count  Dtype  \n",
      "---  ------                   --------------  -----  \n",
      " 0   latitude                 23021 non-null  float64\n",
      " 1   longitude                23021 non-null  float64\n",
      " 2   property_type            23021 non-null  object \n",
      " 3   room_type                23021 non-null  object \n",
      " 4   accommodates             23021 non-null  int64  \n",
      " 5   bedrooms                 23021 non-null  float64\n",
      " 6   beds                     23021 non-null  float64\n",
      " 7   amenities                23021 non-null  object \n",
      " 8   price                    23021 non-null  float64\n",
      " 9   availability_30          23021 non-null  int64  \n",
      " 10  availability_60          23021 non-null  int64  \n",
      " 11  availability_90          23021 non-null  int64  \n",
      " 12  availability_365         23021 non-null  int64  \n",
      " 13  reviews_per_month        23021 non-null  float64\n",
      " 14  price_person             23021 non-null  float64\n",
      " 15  baths                    23021 non-null  float64\n",
      " 16  bedrooms_person          23021 non-null  float64\n",
      " 17  beds_person              23021 non-null  float64\n",
      " 18  baths_person             23021 non-null  float64\n",
      " 19  property_type_collapsed  23021 non-null  object \n",
      "dtypes: float64(11), int64(5), object(4)\n",
      "memory usage: 4.2+ MB\n"
     ]
    }
   ],
   "source": [
    "list_f.info()"
   ]
  },
  {
   "cell_type": "markdown",
   "metadata": {},
   "source": [
    "# Investigando correlação"
   ]
  },
  {
   "cell_type": "markdown",
   "metadata": {},
   "source": [
    "O preço por pessoa foi retirado, pois ele tem a variável resposta na constituinte."
   ]
  },
  {
   "cell_type": "code",
   "execution_count": 674,
   "metadata": {},
   "outputs": [],
   "source": [
    "var=['latitude',\n",
    " 'longitude',\n",
    " 'property_type',\n",
    " 'room_type',\n",
    " 'accommodates',\n",
    " 'bedrooms',\n",
    " 'beds',\n",
    " 'amenities',\n",
    " 'availability_30',\n",
    " 'availability_60',\n",
    " 'availability_90',\n",
    " 'availability_365',\n",
    " 'reviews_per_month',\n",
    " 'baths',\n",
    " 'bedrooms_person',\n",
    " 'beds_person',\n",
    " 'baths_person']"
   ]
  },
  {
   "cell_type": "code",
   "execution_count": 675,
   "metadata": {},
   "outputs": [],
   "source": [
    "corr=list_f[['price']+var].select_dtypes('number').corr()"
   ]
  },
  {
   "cell_type": "code",
   "execution_count": 676,
   "metadata": {},
   "outputs": [
    {
     "data": {
      "text/plain": [
       "<matplotlib.axes._subplots.AxesSubplot at 0x2b2ca0a2b48>"
      ]
     },
     "execution_count": 676,
     "metadata": {},
     "output_type": "execute_result"
    },
    {
     "data": {
      "image/png": "[encoded data removed]",
      "text/plain": [
       "<Figure size 576x576 with 1 Axes>"
      ]
     },
     "metadata": {
      "needs_background": "light"
     },
     "output_type": "display_data"
    }
   ],
   "source": [
    "plt.figure(figsize=(8,8))\n",
    "corr['price'].drop('price').sort_values().plot(kind='barh',title='Correlation coefficient with price')"
   ]
  },
  {
   "cell_type": "markdown",
   "metadata": {},
   "source": [
    "Variáveis de que correlacionam com o tamanho do imóvel (número max. de pessoas, quartos, camas, banheiros), tem forte correlação com o preço. Isso é esperado pois de modo geral, quanto maior e mais confortável o local, maior o preço.\n",
    "\n",
    "A variável reviews por mês tem correlação negativa pois em geral as pessoas só as fazem quando é para apontar defeitos.\n",
    "\n",
    "As variáveis por pessoa afetam negativamente o preço, pois a variável de número máximo de pessoas tem correlação maior. Isso também pode ser entendido pensando que o número de quartos, banheiros, camas por pessoa só são realmente relevantes para imóveis pequenos. Em casos de acomodações maiores, estes números não são tão importantes como o número máximo de pessoas."
   ]
  },
  {
   "cell_type": "markdown",
   "metadata": {},
   "source": [
    "# Tratamento de variáveis categóricas"
   ]
  },
  {
   "cell_type": "markdown",
   "metadata": {},
   "source": [
    "## Tipos de locação"
   ]
  },
  {
   "cell_type": "code",
   "execution_count": 677,
   "metadata": {},
   "outputs": [
    {
     "data": {
      "text/plain": [
       "count               23021\n",
       "unique                  4\n",
       "top       Entire home/apt\n",
       "freq                16420\n",
       "Name: room_type, dtype: object"
      ]
     },
     "execution_count": 677,
     "metadata": {},
     "output_type": "execute_result"
    }
   ],
   "source": [
    "list_f.room_type.describe()"
   ]
  },
  {
   "cell_type": "code",
   "execution_count": 678,
   "metadata": {},
   "outputs": [
    {
     "data": {
      "text/plain": [
       "array(['Entire home/apt', 'Private room', 'Shared room', 'Hotel room'],\n",
       "      dtype=object)"
      ]
     },
     "execution_count": 678,
     "metadata": {},
     "output_type": "execute_result"
    }
   ],
   "source": [
    "list_f.room_type.unique()"
   ]
  },
  {
   "cell_type": "markdown",
   "metadata": {},
   "source": [
    "Essa variável é categórica, com apenas quatro categorias. Será avaliado se essa divisão tem relevância estatística com o preço."
   ]
  },
  {
   "cell_type": "code",
   "execution_count": 679,
   "metadata": {},
   "outputs": [
    {
     "data": {
      "text/plain": [
       "<matplotlib.axes._subplots.AxesSubplot at 0x2b2bfbfc788>"
      ]
     },
     "execution_count": 679,
     "metadata": {},
     "output_type": "execute_result"
    },
    {
     "data": {
      "image/png": "[encoded data removed]",
      "text/plain": [
       "<Figure size 432x288 with 1 Axes>"
      ]
     },
     "metadata": {
      "needs_background": "light"
     },
     "output_type": "display_data"
    }
   ],
   "source": [
    "sns.barplot(x='price',y='room_type',data=list_f,orient='h')"
   ]
  },
  {
   "cell_type": "markdown",
   "metadata": {},
   "source": [
    "Nota-se que cada tipo de locação possui uma faixa de preços diferente. O aluguel de uma casa ou apartamento é a categoria mais cara, até porque nesses casos vão mais pessoas. O quarto de hotel é mais caro que um quarto privado, pois em geral hóteis tem um serviço diferenciado, além de mais funcionários, o que eleva o preço por pessoa."
   ]
  },
  {
   "cell_type": "markdown",
   "metadata": {},
   "source": [
    "## Tipos de propriedade"
   ]
  },
  {
   "cell_type": "code",
   "execution_count": 680,
   "metadata": {},
   "outputs": [
    {
     "data": {
      "text/plain": [
       "count                23021\n",
       "unique                  82\n",
       "top       Entire apartment\n",
       "freq                 13117\n",
       "Name: property_type, dtype: object"
      ]
     },
     "execution_count": 680,
     "metadata": {},
     "output_type": "execute_result"
    }
   ],
   "source": [
    "list_f.property_type.describe()"
   ]
  },
  {
   "cell_type": "code",
   "execution_count": 681,
   "metadata": {},
   "outputs": [
    {
     "data": {
      "text/plain": [
       "array(['Entire condominium', 'Entire apartment', 'Entire loft',\n",
       "       'Private room in apartment', 'Entire house',\n",
       "       'Private room in bed and breakfast', 'Entire townhouse',\n",
       "       'Private room in guest suite', 'Shared room in hostel',\n",
       "       'Private room in house', 'Earth house',\n",
       "       'Private room in condominium', 'Entire guest suite',\n",
       "       'Entire guesthouse', 'Private room in loft', 'Room in hostel',\n",
       "       'Private room in chalet', 'Entire place',\n",
       "       'Entire serviced apartment', 'Entire chalet', 'Entire bungalow',\n",
       "       'Room in boutique hotel', 'Private room in guesthouse',\n",
       "       'Shared room in apartment', 'Private room', 'Shared room in house',\n",
       "       'Private room in earth house', 'Entire hostel',\n",
       "       'Private room in hostel', 'Private room in townhouse',\n",
       "       'Private room in tiny house', 'Entire cottage', 'Treehouse',\n",
       "       'Room in serviced apartment', 'Private room in villa',\n",
       "       'Shared room', 'Room in aparthotel', 'Entire villa',\n",
       "       'Shared room in tiny house', 'Shared room in boutique hotel',\n",
       "       'Shared room in bed and breakfast', 'Entire bed and breakfast',\n",
       "       'Shared room in villa', 'Private room in serviced apartment',\n",
       "       'Private room in cottage', 'Tiny house',\n",
       "       'Room in bed and breakfast', 'Shared room in condominium',\n",
       "       'Room in nature lodge', 'Private room in cabin', 'Entire cabin',\n",
       "       'Shared room in guesthouse', 'Shared room in loft', 'Entire floor',\n",
       "       'Private room in castle', 'Private room in floor', 'Island',\n",
       "       'Shared room in guest suite', 'Yurt', 'Farm stay', 'Boat',\n",
       "       'Room in hotel', 'Private room in bungalow', 'Casa particular',\n",
       "       'Private room in farm stay', 'Shared room in earth house',\n",
       "       'Entire vacation home', 'Shared room in casa particular',\n",
       "       'Private room in casa particular', 'Camper/RV',\n",
       "       'Shared room in cottage', 'Shared room in bungalow', 'Campsite',\n",
       "       'Entire dorm', 'Private room in island', 'Entire home/apt',\n",
       "       'Private room in barn', 'Private room in tent',\n",
       "       'Shared room in townhouse', 'Private room in nature lodge',\n",
       "       'Shared room in castle', 'Houseboat'], dtype=object)"
      ]
     },
     "execution_count": 681,
     "metadata": {},
     "output_type": "execute_result"
    }
   ],
   "source": [
    "list_f.property_type.unique()"
   ]
  },
  {
   "cell_type": "markdown",
   "metadata": {},
   "source": [
    "O tipo de propriedade é uma variável categórica, mas a cardinalidade é muito alta. Assim, faz sentido englobar em única categoria os tipos com menor participação."
   ]
  },
  {
   "cell_type": "code",
   "execution_count": 682,
   "metadata": {},
   "outputs": [],
   "source": [
    "k_idx=(list_f.loc[:, 'property_type'].value_counts(normalize=True).cumsum().to_frame().query('property_type < 0.9' ))\n",
    "list_f['property_type_collapsed']=list_f['property_type']\n",
    "mask=~list_f['property_type_collapsed'].isin(k_idx.index)\n",
    "list_f.loc[mask,'property_type_collapsed']='Others'\n",
    "order_idx=(list_f.groupby(['property_type_collapsed'])['price'].mean().sort_values(ascending=False).index);"
   ]
  },
  {
   "cell_type": "code",
   "execution_count": 683,
   "metadata": {},
   "outputs": [
    {
     "data": {
      "text/plain": [
       "<matplotlib.axes._subplots.AxesSubplot at 0x2b2b3de8948>"
      ]
     },
     "execution_count": 683,
     "metadata": {},
     "output_type": "execute_result"
    },
    {
     "data": {
      "image/png": "[encoded data removed]",
      "text/plain": [
       "<Figure size 432x288 with 1 Axes>"
      ]
     },
     "metadata": {
      "needs_background": "light"
     },
     "output_type": "display_data"
    }
   ],
   "source": [
    "sns.barplot(x='price', y='property_type_collapsed', data=list_f, order=order_idx, orient='h')"
   ]
  },
  {
   "cell_type": "markdown",
   "metadata": {},
   "source": [
    "Pelo gráfico existe relevância estatística entre cada tipo de propriedade."
   ]
  },
  {
   "cell_type": "markdown",
   "metadata": {},
   "source": [
    "## Facilidades"
   ]
  },
  {
   "cell_type": "code",
   "execution_count": 684,
   "metadata": {},
   "outputs": [
    {
     "data": {
      "text/plain": [
       "0    [Hot water, Essentials, Stove, Microwave, Buil...\n",
       "1    [TV, Cable TV, Elevator, Essentials, Iron, Bed...\n",
       "2    [Elevator, Microwave, Essentials, Kitchen, Sto...\n",
       "Name: amenities, dtype: object"
      ]
     },
     "execution_count": 684,
     "metadata": {},
     "output_type": "execute_result"
    }
   ],
   "source": [
    "list_f.amenities.head(3)"
   ]
  },
  {
   "cell_type": "markdown",
   "metadata": {},
   "source": [
    "Cada imóvel possui um conjunto diferente de facilidades. Ao invés de usar cada conjunto, é mais interessante valorar cada uma das facilidades individualmente."
   ]
  },
  {
   "cell_type": "code",
   "execution_count": 685,
   "metadata": {},
   "outputs": [
    {
     "data": {
      "text/plain": [
       "557"
      ]
     },
     "execution_count": 685,
     "metadata": {},
     "output_type": "execute_result"
    }
   ],
   "source": [
    "(list_f.loc[:,'amenities'].explode().nunique())"
   ]
  },
  {
   "cell_type": "code",
   "execution_count": 686,
   "metadata": {},
   "outputs": [
    {
     "data": {
      "text/plain": [
       "Kitchen                   5.32%\n",
       "Wifi                     10.54%\n",
       "Essentials               15.56%\n",
       "TV                       20.43%\n",
       "Air conditioning         25.03%\n",
       "Hangers                  29.10%\n",
       "Iron                     32.95%\n",
       "Washer                   36.63%\n",
       "Elevator                 40.24%\n",
       "Hot water                43.71%\n",
       "Dedicated workspace      47.12%\n",
       "Dishes and silverware    49.94%\n",
       "Refrigerator             52.48%\n",
       "Hair dryer               54.85%\n",
       "Microwave                57.21%\n",
       "Name: amenities, dtype: object"
      ]
     },
     "execution_count": 686,
     "metadata": {},
     "output_type": "execute_result"
    }
   ],
   "source": [
    "relevant_amenities=(list_f.loc[:, 'amenities'].explode().value_counts(normalize=True, ascending=False).head(15))\n",
    "relevant_amenities.cumsum().map('{:,.2%}'.format)"
   ]
  },
  {
   "cell_type": "markdown",
   "metadata": {},
   "source": [
    "# Modelagem"
   ]
  },
  {
   "cell_type": "code",
   "execution_count": 687,
   "metadata": {},
   "outputs": [
    {
     "data": {
      "text/plain": [
       "Text(0.5, 1.0, 'Price Distribution Truncated at R$ 10000')"
      ]
     },
     "execution_count": 687,
     "metadata": {},
     "output_type": "execute_result"
    },
    {
     "data": {
      "image/png": "[encoded data removed]",
      "text/plain": [
       "<Figure size 1080x360 with 1 Axes>"
      ]
     },
     "metadata": {
      "needs_background": "light"
     },
     "output_type": "display_data"
    }
   ],
   "source": [
    "plt.figure(figsize=(15,5))\n",
    "sns.distplot(list_f.price.clip(upper=10000))\n",
    "plt.title('Price Distribution Truncated at R$ 10000')"
   ]
  },
  {
   "cell_type": "markdown",
   "metadata": {},
   "source": [
    "A distribuição acima é gamma."
   ]
  },
  {
   "cell_type": "markdown",
   "metadata": {},
   "source": [
    "A modelagem será feita considerando um número de variáveis reduzido. Isso torna o modelo mais simplicado é interessante pela facilidade de interpretação. As variáveis escolhidas são:\n",
    "\n",
    "* latitude\n",
    "* longitude\n",
    "* room_type\n",
    "* accommodates\n",
    "* bedrooms\n",
    "* beds\n",
    "* reviews_per_month\n",
    "* baths\n",
    "* property_type_collapsed\n",
    "\n",
    "As variáveis geográficas latitude e longitude são interessantes pois representam os bairros. De modo geral, bairros mais caros tem locações mais caras.\n",
    "\n",
    "As variáveis por pessoa foram excluídas pois ficam redundantes numa regressão com suas constituintes.\n",
    "\n",
    "As facilidades são um parâmetro relevante, mas por ter uma cardinalidade muito alta, foram descartados em favor de variáveis mais significativas.\n",
    "\n",
    "A disponibilidade foi descartada pelo mesmo motivo das facilidades. A idéia é simplificar o modelo."
   ]
  },
  {
   "cell_type": "code",
   "execution_count": 688,
   "metadata": {},
   "outputs": [
    {
     "data": {
      "text/plain": [
       "['latitude',\n",
       " 'longitude',\n",
       " 'property_type',\n",
       " 'room_type',\n",
       " 'accommodates',\n",
       " 'bedrooms',\n",
       " 'beds',\n",
       " 'amenities',\n",
       " 'price',\n",
       " 'availability_30',\n",
       " 'availability_60',\n",
       " 'availability_90',\n",
       " 'availability_365',\n",
       " 'reviews_per_month',\n",
       " 'price_person',\n",
       " 'baths',\n",
       " 'bedrooms_person',\n",
       " 'beds_person',\n",
       " 'baths_person',\n",
       " 'property_type_collapsed']"
      ]
     },
     "execution_count": 688,
     "metadata": {},
     "output_type": "execute_result"
    }
   ],
   "source": [
    "list(list_f.columns)"
   ]
  },
  {
   "cell_type": "code",
   "execution_count": 689,
   "metadata": {},
   "outputs": [
    {
     "name": "stdout",
     "output_type": "stream",
     "text": [
      "<class 'pandas.core.frame.DataFrame'>\n",
      "Int64Index: 23021 entries, 0 to 25783\n",
      "Data columns (total 10 columns):\n",
      " #   Column                   Non-Null Count  Dtype  \n",
      "---  ------                   --------------  -----  \n",
      " 0   latitude                 23021 non-null  float64\n",
      " 1   longitude                23021 non-null  float64\n",
      " 2   room_type                23021 non-null  object \n",
      " 3   accommodates             23021 non-null  int64  \n",
      " 4   bedrooms                 23021 non-null  float64\n",
      " 5   beds                     23021 non-null  float64\n",
      " 6   price                    23021 non-null  float64\n",
      " 7   reviews_per_month        23021 non-null  float64\n",
      " 8   baths                    23021 non-null  float64\n",
      " 9   property_type_collapsed  23021 non-null  object \n",
      "dtypes: float64(7), int64(1), object(2)\n",
      "memory usage: 2.4+ MB\n"
     ]
    }
   ],
   "source": [
    "df=list_f.iloc[:,[0,1,3,4,5,6,8,13,15,19]]\n",
    "df.info()"
   ]
  },
  {
   "cell_type": "markdown",
   "metadata": {},
   "source": [
    "## Criação das dummies"
   ]
  },
  {
   "cell_type": "code",
   "execution_count": 690,
   "metadata": {},
   "outputs": [],
   "source": [
    "df=pd.get_dummies(df)"
   ]
  },
  {
   "cell_type": "markdown",
   "metadata": {},
   "source": [
    "## Divisão da base"
   ]
  },
  {
   "cell_type": "code",
   "execution_count": 691,
   "metadata": {},
   "outputs": [],
   "source": [
    "X=df.drop(columns='price')\n",
    "y= df[['price']]\n",
    "x_train,x_hold,y_train,y_hold=train_test_split(X, y, test_size=0.2)\n",
    "x_train,x_test,y_train,y_test=train_test_split(x_train, y_train, test_size=0.25)"
   ]
  },
  {
   "cell_type": "markdown",
   "metadata": {},
   "source": [
    "## Regressão linear"
   ]
  },
  {
   "cell_type": "code",
   "execution_count": 692,
   "metadata": {},
   "outputs": [],
   "source": [
    "LR=LinearRegression()"
   ]
  },
  {
   "cell_type": "code",
   "execution_count": 693,
   "metadata": {},
   "outputs": [],
   "source": [
    "imputer=SimpleImputer(strategy='median')\n",
    "scaling=StandardScaler()\n",
    "pipe=make_pipeline(imputer,scaling,LR)"
   ]
  },
  {
   "cell_type": "code",
   "execution_count": 694,
   "metadata": {},
   "outputs": [
    {
     "data": {
      "text/plain": [
       "Pipeline(steps=[('simpleimputer', SimpleImputer(strategy='median')),\n",
       "                ('standardscaler', StandardScaler()),\n",
       "                ('linearregression', LinearRegression())])"
      ]
     },
     "execution_count": 694,
     "metadata": {},
     "output_type": "execute_result"
    }
   ],
   "source": [
    "pipe.fit(x_test,y_test)"
   ]
  },
  {
   "cell_type": "code",
   "execution_count": 695,
   "metadata": {},
   "outputs": [],
   "source": [
    "y_train_pred =pipe.predict(x_train)\n",
    "y_test_pred =pipe.predict(x_test)\n",
    "y_hold_pred =pipe.predict(x_hold)"
   ]
  },
  {
   "cell_type": "markdown",
   "metadata": {},
   "source": [
    "* $R^2$"
   ]
  },
  {
   "cell_type": "code",
   "execution_count": 696,
   "metadata": {},
   "outputs": [
    {
     "data": {
      "text/plain": [
       "0.5129416570693645"
      ]
     },
     "execution_count": 696,
     "metadata": {},
     "output_type": "execute_result"
    }
   ],
   "source": [
    "pipe.score(x_test,y_test)"
   ]
  },
  {
   "cell_type": "markdown",
   "metadata": {},
   "source": [
    "* MRAE"
   ]
  },
  {
   "cell_type": "code",
   "execution_count": 697,
   "metadata": {},
   "outputs": [
    {
     "data": {
      "text/plain": [
       "0.7301398964232189"
      ]
     },
     "execution_count": 697,
     "metadata": {},
     "output_type": "execute_result"
    }
   ],
   "source": [
    "mean_absolute_percentage_error(y_hold, y_hold_pred)"
   ]
  },
  {
   "cell_type": "markdown",
   "metadata": {},
   "source": [
    "* RMSE"
   ]
  },
  {
   "cell_type": "code",
   "execution_count": 698,
   "metadata": {},
   "outputs": [
    {
     "data": {
      "text/plain": [
       "325.59118469826933"
      ]
     },
     "execution_count": 698,
     "metadata": {},
     "output_type": "execute_result"
    }
   ],
   "source": [
    "np.sqrt(mean_squared_error(y_hold, y_hold_pred))"
   ]
  },
  {
   "cell_type": "markdown",
   "metadata": {},
   "source": [
    "Gráfico real x predito"
   ]
  },
  {
   "cell_type": "code",
   "execution_count": 699,
   "metadata": {},
   "outputs": [
    {
     "data": {
      "image/png": "[encoded data removed]",
      "text/plain": [
       "<Figure size 720x720 with 1 Axes>"
      ]
     },
     "metadata": {
      "needs_background": "light"
     },
     "output_type": "display_data"
    }
   ],
   "source": [
    "fig, ax = plt.subplots(figsize=(10,10))\n",
    "ax.scatter(y_hold, y_hold_pred)\n",
    "ax.set_yticks(range(0, 6000, 1000))\n",
    "ax.set_xticks(range(0, 6000, 1000))\n",
    "ax.spines['left'].set_position('zero')\n",
    "ax.spines['bottom'].set_position('zero')\n",
    "plt.xlabel('True value')\n",
    "plt.ylabel('Predicted value')\n",
    "line = mlines.Line2D([0, 1], [0, 1], color='red')\n",
    "transform = ax.transAxes\n",
    "line.set_transform(transform)\n",
    "ax.add_line(line)\n",
    "plt.show()"
   ]
  },
  {
   "cell_type": "markdown",
   "metadata": {},
   "source": [
    "## LGBM"
   ]
  },
  {
   "cell_type": "code",
   "execution_count": 700,
   "metadata": {},
   "outputs": [],
   "source": [
    "lgbm=LGBMRegressor(objective='gamma', n_estimators=100, max_depth=4)"
   ]
  },
  {
   "cell_type": "code",
   "execution_count": 701,
   "metadata": {},
   "outputs": [
    {
     "data": {
      "text/plain": [
       "LGBMRegressor(max_depth=4, objective='gamma')"
      ]
     },
     "execution_count": 701,
     "metadata": {},
     "output_type": "execute_result"
    }
   ],
   "source": [
    "lgbm.fit(x_train, y_train)"
   ]
  },
  {
   "cell_type": "code",
   "execution_count": 702,
   "metadata": {},
   "outputs": [],
   "source": [
    "y_train_pred = lgbm.predict(x_train)\n",
    "y_test_pred = lgbm.predict(x_test)\n",
    "y_hold_pred = lgbm.predict(x_hold)"
   ]
  },
  {
   "cell_type": "markdown",
   "metadata": {},
   "source": [
    "* Desvio"
   ]
  },
  {
   "cell_type": "code",
   "execution_count": 703,
   "metadata": {},
   "outputs": [
    {
     "data": {
      "text/plain": [
       "0.28935434202980587"
      ]
     },
     "execution_count": 703,
     "metadata": {},
     "output_type": "execute_result"
    }
   ],
   "source": [
    "mean_gamma_deviance(y_hold, y_hold_pred)"
   ]
  },
  {
   "cell_type": "markdown",
   "metadata": {},
   "source": [
    "* MRAE"
   ]
  },
  {
   "cell_type": "code",
   "execution_count": 704,
   "metadata": {},
   "outputs": [
    {
     "data": {
      "text/plain": [
       "0.566519829168632"
      ]
     },
     "execution_count": 704,
     "metadata": {},
     "output_type": "execute_result"
    }
   ],
   "source": [
    "mean_absolute_percentage_error(y_hold, y_hold_pred)"
   ]
  },
  {
   "cell_type": "markdown",
   "metadata": {},
   "source": [
    "* RMSE"
   ]
  },
  {
   "cell_type": "code",
   "execution_count": 705,
   "metadata": {},
   "outputs": [
    {
     "data": {
      "text/plain": [
       "297.7061822674186"
      ]
     },
     "execution_count": 705,
     "metadata": {},
     "output_type": "execute_result"
    }
   ],
   "source": [
    "np.sqrt(mean_squared_error(y_hold, y_hold_pred))"
   ]
  },
  {
   "cell_type": "markdown",
   "metadata": {},
   "source": [
    "Gráfico real x predito"
   ]
  },
  {
   "cell_type": "code",
   "execution_count": 706,
   "metadata": {},
   "outputs": [
    {
     "data": {
      "image/png": "[encoded data removed]",
      "text/plain": [
       "<Figure size 720x720 with 1 Axes>"
      ]
     },
     "metadata": {
      "needs_background": "light"
     },
     "output_type": "display_data"
    }
   ],
   "source": [
    "fig, ax = plt.subplots(figsize=(10,10))\n",
    "ax.scatter(y_hold, y_hold_pred)\n",
    "ax.set_yticks(range(0, 6000, 1000))\n",
    "ax.set_xticks(range(0, 6000, 1000))\n",
    "ax.spines['left'].set_position('zero')\n",
    "ax.spines['bottom'].set_position('zero')\n",
    "plt.xlabel('True value')\n",
    "plt.ylabel('Predicted value')\n",
    "line = mlines.Line2D([0, 1], [0, 1], color='red')\n",
    "transform = ax.transAxes\n",
    "line.set_transform(transform)\n",
    "ax.add_line(line)\n",
    "plt.show()"
   ]
  },
  {
   "cell_type": "markdown",
   "metadata": {},
   "source": [
    "# Considerações finais"
   ]
  },
  {
   "cell_type": "markdown",
   "metadata": {},
   "source": [
    "O modelo LGBM se comportou melhor do que a regressão linear. Apesar disso, tal modelo tem um MRAE de 56,5 % e RMSE de 297,7. Isso indica que a disperção é alta, especialmente para valores de preço mais altos."
   ]
  }
 ],
 "metadata": {
  "kernelspec": {
   "display_name": "Python 3",
   "language": "python",
   "name": "python3"
  },
  "language_info": {
   "codemirror_mode": {
    "name": "ipython",
    "version": 3
   },
   "file_extension": ".py",
   "mimetype": "text/x-python",
   "name": "python",
   "nbconvert_exporter": "python",
   "pygments_lexer": "ipython3",
   "version": "3.7.6"
  }
 },
 "nbformat": 4,
 "nbformat_minor": 4
}
