{
 "cells": [
  {
   "cell_type": "code",
   "execution_count": 2,
   "metadata": {},
   "outputs": [],
   "source": [
    "import os\n",
    "import datetime as dt\n",
    "import numpy as np\n",
    "import pandas as pd\n",
    "import matplotlib.pyplot as plt\n",
    "import seaborn as sns\n",
    "import statsmodels.api as sm\n",
    "import nltk\n",
    "\n",
    "\n",
    "from itertools import chain\n",
    "\n",
    "from branca.colormap import linear, LinearColormap\n",
    "from statsmodels.formula.api import ols\n",
    "from IPython.display import Markdown, IFrame\n",
    "from nltk.sentiment.vader import SentimentIntensityAnalyzer\n",
    "from matplotlib.colors import rgb2hex\n",
    "\n",
    "from sklearn.model_selection import train_test_split, GridSearchCV\n",
    "from sklearn.dummy import DummyRegressor\n",
    "from sklearn.linear_model import GammaRegressor\n",
    "from sklearn.metrics import mean_squared_error, mean_gamma_deviance, mean_absolute_percentage_error\n",
    "from sklearn.impute import SimpleImputer\n",
    "from sklearn.pipeline import make_pipeline\n",
    "from sklearn.compose import make_column_transformer\n",
    "from sklearn.preprocessing import StandardScaler\n",
    "\n",
    "from lightgbm import LGBMRegressor\n",
    "\n",
    "from scipy.stats import expon"
   ]
  },
  {
   "cell_type": "markdown",
   "metadata": {},
   "source": [
    "# A predição do preço foi escolhida para modelagem"
   ]
  },
  {
   "cell_type": "markdown",
   "metadata": {},
   "source": [
    "## Bases"
   ]
  },
  {
   "cell_type": "markdown",
   "metadata": {},
   "source": [
    "Existem 5 diferentes bases, mas a base lisitings é a mais completa enquanto as outras possuem poucas informações. Apenas ela será utilizada."
   ]
  },
  {
   "cell_type": "markdown",
   "metadata": {},
   "source": [
    "### Base listings"
   ]
  },
  {
   "cell_type": "code",
   "execution_count": 165,
   "metadata": {},
   "outputs": [],
   "source": [
    "listings=pd.read_csv('http://data.insideairbnb.com/brazil/rj/rio-de-janeiro/2020-12-23/data/listings.csv.gz')"
   ]
  },
  {
   "cell_type": "code",
   "execution_count": 99,
   "metadata": {},
   "outputs": [
    {
     "data": {
      "text/html": [
       "<div>\n",
       "<style scoped>\n",
       "    .dataframe tbody tr th:only-of-type {\n",
       "        vertical-align: middle;\n",
       "    }\n",
       "\n",
       "    .dataframe tbody tr th {\n",
       "        vertical-align: top;\n",
       "    }\n",
       "\n",
       "    .dataframe thead th {\n",
       "        text-align: right;\n",
       "    }\n",
       "</style>\n",
       "<table border=\"1\" class=\"dataframe\">\n",
       "  <thead>\n",
       "    <tr style=\"text-align: right;\">\n",
       "      <th></th>\n",
       "      <th>id</th>\n",
       "      <th>listing_url</th>\n",
       "      <th>scrape_id</th>\n",
       "      <th>last_scraped</th>\n",
       "      <th>name</th>\n",
       "      <th>description</th>\n",
       "      <th>neighborhood_overview</th>\n",
       "      <th>picture_url</th>\n",
       "      <th>host_id</th>\n",
       "      <th>host_url</th>\n",
       "      <th>...</th>\n",
       "      <th>review_scores_communication</th>\n",
       "      <th>review_scores_location</th>\n",
       "      <th>review_scores_value</th>\n",
       "      <th>license</th>\n",
       "      <th>instant_bookable</th>\n",
       "      <th>calculated_host_listings_count</th>\n",
       "      <th>calculated_host_listings_count_entire_homes</th>\n",
       "      <th>calculated_host_listings_count_private_rooms</th>\n",
       "      <th>calculated_host_listings_count_shared_rooms</th>\n",
       "      <th>reviews_per_month</th>\n",
       "    </tr>\n",
       "  </thead>\n",
       "  <tbody>\n",
       "    <tr>\n",
       "      <th>0</th>\n",
       "      <td>17878</td>\n",
       "      <td>https://www.airbnb.com/rooms/17878</td>\n",
       "      <td>20201223235510</td>\n",
       "      <td>2020-12-30</td>\n",
       "      <td>Very Nice 2Br in Copacabana w. balcony, fast WiFi</td>\n",
       "      <td>Discounts for long term stays. &lt;br /&gt;- Large b...</td>\n",
       "      <td>This is the one of the bests spots in Rio. Bec...</td>\n",
       "      <td>https://a0.muscache.com/pictures/65320518/3069...</td>\n",
       "      <td>68997</td>\n",
       "      <td>https://www.airbnb.com/users/show/68997</td>\n",
       "      <td>...</td>\n",
       "      <td>10.0</td>\n",
       "      <td>10.0</td>\n",
       "      <td>9.0</td>\n",
       "      <td>NaN</td>\n",
       "      <td>t</td>\n",
       "      <td>1</td>\n",
       "      <td>1</td>\n",
       "      <td>0</td>\n",
       "      <td>0</td>\n",
       "      <td>2.03</td>\n",
       "    </tr>\n",
       "    <tr>\n",
       "      <th>1</th>\n",
       "      <td>25026</td>\n",
       "      <td>https://www.airbnb.com/rooms/25026</td>\n",
       "      <td>20201223235510</td>\n",
       "      <td>2020-12-24</td>\n",
       "      <td>Beautiful Modern Decorated Studio in Copa</td>\n",
       "      <td>Our apartment is a little gem, everyone loves ...</td>\n",
       "      <td>Copacabana is a lively neighborhood and the ap...</td>\n",
       "      <td>https://a0.muscache.com/pictures/3003965/68ebb...</td>\n",
       "      <td>3746246</td>\n",
       "      <td>https://www.airbnb.com/users/show/3746246</td>\n",
       "      <td>...</td>\n",
       "      <td>10.0</td>\n",
       "      <td>10.0</td>\n",
       "      <td>9.0</td>\n",
       "      <td>NaN</td>\n",
       "      <td>f</td>\n",
       "      <td>11</td>\n",
       "      <td>11</td>\n",
       "      <td>0</td>\n",
       "      <td>0</td>\n",
       "      <td>1.85</td>\n",
       "    </tr>\n",
       "    <tr>\n",
       "      <th>2</th>\n",
       "      <td>35636</td>\n",
       "      <td>https://www.airbnb.com/rooms/35636</td>\n",
       "      <td>20201223235510</td>\n",
       "      <td>2020-12-24</td>\n",
       "      <td>Cosy flat close to Ipanema beach</td>\n",
       "      <td>This cosy apartment  is just a few steps away ...</td>\n",
       "      <td>The  apartment street is very quiet and safe ....</td>\n",
       "      <td>https://a0.muscache.com/pictures/20009355/38b6...</td>\n",
       "      <td>153232</td>\n",
       "      <td>https://www.airbnb.com/users/show/153232</td>\n",
       "      <td>...</td>\n",
       "      <td>10.0</td>\n",
       "      <td>10.0</td>\n",
       "      <td>9.0</td>\n",
       "      <td>NaN</td>\n",
       "      <td>f</td>\n",
       "      <td>1</td>\n",
       "      <td>1</td>\n",
       "      <td>0</td>\n",
       "      <td>0</td>\n",
       "      <td>2.07</td>\n",
       "    </tr>\n",
       "  </tbody>\n",
       "</table>\n",
       "<p>3 rows × 74 columns</p>\n",
       "</div>"
      ],
      "text/plain": [
       "      id                         listing_url       scrape_id last_scraped  \\\n",
       "0  17878  https://www.airbnb.com/rooms/17878  20201223235510   2020-12-30   \n",
       "1  25026  https://www.airbnb.com/rooms/25026  20201223235510   2020-12-24   \n",
       "2  35636  https://www.airbnb.com/rooms/35636  20201223235510   2020-12-24   \n",
       "\n",
       "                                                name  \\\n",
       "0  Very Nice 2Br in Copacabana w. balcony, fast WiFi   \n",
       "1          Beautiful Modern Decorated Studio in Copa   \n",
       "2                   Cosy flat close to Ipanema beach   \n",
       "\n",
       "                                         description  \\\n",
       "0  Discounts for long term stays. <br />- Large b...   \n",
       "1  Our apartment is a little gem, everyone loves ...   \n",
       "2  This cosy apartment  is just a few steps away ...   \n",
       "\n",
       "                               neighborhood_overview  \\\n",
       "0  This is the one of the bests spots in Rio. Bec...   \n",
       "1  Copacabana is a lively neighborhood and the ap...   \n",
       "2  The  apartment street is very quiet and safe ....   \n",
       "\n",
       "                                         picture_url  host_id  \\\n",
       "0  https://a0.muscache.com/pictures/65320518/3069...    68997   \n",
       "1  https://a0.muscache.com/pictures/3003965/68ebb...  3746246   \n",
       "2  https://a0.muscache.com/pictures/20009355/38b6...   153232   \n",
       "\n",
       "                                    host_url  ... review_scores_communication  \\\n",
       "0    https://www.airbnb.com/users/show/68997  ...                        10.0   \n",
       "1  https://www.airbnb.com/users/show/3746246  ...                        10.0   \n",
       "2   https://www.airbnb.com/users/show/153232  ...                        10.0   \n",
       "\n",
       "  review_scores_location review_scores_value license instant_bookable  \\\n",
       "0                   10.0                 9.0     NaN                t   \n",
       "1                   10.0                 9.0     NaN                f   \n",
       "2                   10.0                 9.0     NaN                f   \n",
       "\n",
       "  calculated_host_listings_count calculated_host_listings_count_entire_homes  \\\n",
       "0                              1                                           1   \n",
       "1                             11                                          11   \n",
       "2                              1                                           1   \n",
       "\n",
       "  calculated_host_listings_count_private_rooms  \\\n",
       "0                                            0   \n",
       "1                                            0   \n",
       "2                                            0   \n",
       "\n",
       "  calculated_host_listings_count_shared_rooms reviews_per_month  \n",
       "0                                           0              2.03  \n",
       "1                                           0              1.85  \n",
       "2                                           0              2.07  \n",
       "\n",
       "[3 rows x 74 columns]"
      ]
     },
     "execution_count": 99,
     "metadata": {},
     "output_type": "execute_result"
    }
   ],
   "source": [
    "listings.head(3)"
   ]
  },
  {
   "cell_type": "code",
   "execution_count": 171,
   "metadata": {},
   "outputs": [
    {
     "name": "stdout",
     "output_type": "stream",
     "text": [
      "<class 'pandas.core.frame.DataFrame'>\n",
      "RangeIndex: 25784 entries, 0 to 25783\n",
      "Data columns (total 74 columns):\n",
      " #   Column                                        Non-Null Count  Dtype  \n",
      "---  ------                                        --------------  -----  \n",
      " 0   id                                            25784 non-null  int64  \n",
      " 1   listing_url                                   25784 non-null  object \n",
      " 2   scrape_id                                     25784 non-null  int64  \n",
      " 3   last_scraped                                  25784 non-null  object \n",
      " 4   name                                          25755 non-null  object \n",
      " 5   description                                   24423 non-null  object \n",
      " 6   neighborhood_overview                         14109 non-null  object \n",
      " 7   picture_url                                   25784 non-null  object \n",
      " 8   host_id                                       25784 non-null  int64  \n",
      " 9   host_url                                      25784 non-null  object \n",
      " 10  host_name                                     25776 non-null  object \n",
      " 11  host_since                                    25776 non-null  object \n",
      " 12  host_location                                 25692 non-null  object \n",
      " 13  host_about                                    12758 non-null  object \n",
      " 14  host_response_time                            19372 non-null  object \n",
      " 15  host_response_rate                            19372 non-null  object \n",
      " 16  host_acceptance_rate                          18700 non-null  object \n",
      " 17  host_is_superhost                             25776 non-null  object \n",
      " 18  host_thumbnail_url                            25776 non-null  object \n",
      " 19  host_picture_url                              25776 non-null  object \n",
      " 20  host_neighbourhood                            15058 non-null  object \n",
      " 21  host_listings_count                           25776 non-null  float64\n",
      " 22  host_total_listings_count                     25776 non-null  float64\n",
      " 23  host_verifications                            25784 non-null  object \n",
      " 24  host_has_profile_pic                          25776 non-null  object \n",
      " 25  host_identity_verified                        25776 non-null  object \n",
      " 26  neighbourhood                                 14109 non-null  object \n",
      " 27  neighbourhood_cleansed                        25784 non-null  object \n",
      " 28  neighbourhood_group_cleansed                  0 non-null      float64\n",
      " 29  latitude                                      25784 non-null  float64\n",
      " 30  longitude                                     25784 non-null  float64\n",
      " 31  property_type                                 25784 non-null  object \n",
      " 32  room_type                                     25784 non-null  object \n",
      " 33  accommodates                                  25784 non-null  int64  \n",
      " 34  bathrooms                                     0 non-null      float64\n",
      " 35  bathrooms_text                                25714 non-null  object \n",
      " 36  bedrooms                                      24058 non-null  float64\n",
      " 37  beds                                          25546 non-null  float64\n",
      " 38  amenities                                     25784 non-null  object \n",
      " 39  price                                         25784 non-null  object \n",
      " 40  minimum_nights                                25784 non-null  int64  \n",
      " 41  maximum_nights                                25784 non-null  int64  \n",
      " 42  minimum_minimum_nights                        25784 non-null  int64  \n",
      " 43  maximum_minimum_nights                        25784 non-null  int64  \n",
      " 44  minimum_maximum_nights                        25784 non-null  int64  \n",
      " 45  maximum_maximum_nights                        25784 non-null  int64  \n",
      " 46  minimum_nights_avg_ntm                        25784 non-null  float64\n",
      " 47  maximum_nights_avg_ntm                        25784 non-null  float64\n",
      " 48  calendar_updated                              0 non-null      float64\n",
      " 49  has_availability                              25784 non-null  object \n",
      " 50  availability_30                               25784 non-null  int64  \n",
      " 51  availability_60                               25784 non-null  int64  \n",
      " 52  availability_90                               25784 non-null  int64  \n",
      " 53  availability_365                              25784 non-null  int64  \n",
      " 54  calendar_last_scraped                         25784 non-null  object \n",
      " 55  number_of_reviews                             25784 non-null  int64  \n",
      " 56  number_of_reviews_ltm                         25784 non-null  int64  \n",
      " 57  number_of_reviews_l30d                        25784 non-null  int64  \n",
      " 58  first_review                                  15852 non-null  object \n",
      " 59  last_review                                   15852 non-null  object \n",
      " 60  review_scores_rating                          15302 non-null  float64\n",
      " 61  review_scores_accuracy                        15288 non-null  float64\n",
      " 62  review_scores_cleanliness                     15291 non-null  float64\n",
      " 63  review_scores_checkin                         15289 non-null  float64\n",
      " 64  review_scores_communication                   15294 non-null  float64\n",
      " 65  review_scores_location                        15289 non-null  float64\n",
      " 66  review_scores_value                           15291 non-null  float64\n",
      " 67  license                                       0 non-null      float64\n",
      " 68  instant_bookable                              25784 non-null  object \n",
      " 69  calculated_host_listings_count                25784 non-null  int64  \n",
      " 70  calculated_host_listings_count_entire_homes   25784 non-null  int64  \n",
      " 71  calculated_host_listings_count_private_rooms  25784 non-null  int64  \n",
      " 72  calculated_host_listings_count_shared_rooms   25784 non-null  int64  \n",
      " 73  reviews_per_month                             15852 non-null  float64\n",
      "dtypes: float64(20), int64(21), object(33)\n",
      "memory usage: 14.6+ MB\n"
     ]
    }
   ],
   "source": [
    "listings.info()"
   ]
  },
  {
   "cell_type": "markdown",
   "metadata": {},
   "source": [
    "### Variáveis de interesse:"
   ]
  },
  {
   "cell_type": "markdown",
   "metadata": {},
   "source": [
    "Diversas variáveis podem influir no preço, mas apenas algumas foram selecionadas numa tentativa de simplificar a modelagem. Essa triagem foi feita pela experiência do autor. Ex. número de banheiros é mais relevante na montagem do preço do que se o host tem foto.\n",
    "\n",
    "Lista de variáveis escolhidas:\n",
    "\n",
    "* bathrooms_text\n",
    "* property_type\n",
    "* room_type\n",
    "* host_verifications\n",
    "* accommodates\n",
    "* amenities\n",
    "* minimum_nights\n",
    "* maximum_nights\n",
    "* minimum_minimum_nights\n",
    "* maximum_minimum_nights\n",
    "* minimum_maximum_nights\n",
    "* maximum_maximum_nights\n",
    "* minimum_nights_avg_ntm\n",
    "* maximum_nights_avg_ntm\n",
    "* calculated_host_listings_count\n",
    "* calculated_host_listings_count_entire_homes\n",
    "* calculated_host_listings_count_private_rooms\n",
    "* calculated_host_listings_count_shared_rooms\n",
    "* reviews_per_month\n",
    "* has_availability\n",
    "* availability_30\n",
    "* availability_60\n",
    "* availability_90\n",
    "* availability_365"
   ]
  },
  {
   "cell_type": "code",
   "execution_count": 182,
   "metadata": {},
   "outputs": [],
   "source": [
    "listings_red=listings.iloc[:,[31,32,33,35,36,37,38,39,40,41,42,43,44,45,46,47,49,50,51,52,53,73]]"
   ]
  },
  {
   "cell_type": "code",
   "execution_count": 183,
   "metadata": {},
   "outputs": [
    {
     "name": "stdout",
     "output_type": "stream",
     "text": [
      "<class 'pandas.core.frame.DataFrame'>\n",
      "RangeIndex: 25784 entries, 0 to 25783\n",
      "Data columns (total 22 columns):\n",
      " #   Column                  Non-Null Count  Dtype  \n",
      "---  ------                  --------------  -----  \n",
      " 0   property_type           25784 non-null  object \n",
      " 1   room_type               25784 non-null  object \n",
      " 2   accommodates            25784 non-null  int64  \n",
      " 3   bathrooms_text          25714 non-null  object \n",
      " 4   bedrooms                24058 non-null  float64\n",
      " 5   beds                    25546 non-null  float64\n",
      " 6   amenities               25784 non-null  object \n",
      " 7   price                   25784 non-null  object \n",
      " 8   minimum_nights          25784 non-null  int64  \n",
      " 9   maximum_nights          25784 non-null  int64  \n",
      " 10  minimum_minimum_nights  25784 non-null  int64  \n",
      " 11  maximum_minimum_nights  25784 non-null  int64  \n",
      " 12  minimum_maximum_nights  25784 non-null  int64  \n",
      " 13  maximum_maximum_nights  25784 non-null  int64  \n",
      " 14  minimum_nights_avg_ntm  25784 non-null  float64\n",
      " 15  maximum_nights_avg_ntm  25784 non-null  float64\n",
      " 16  has_availability        25784 non-null  object \n",
      " 17  availability_30         25784 non-null  int64  \n",
      " 18  availability_60         25784 non-null  int64  \n",
      " 19  availability_90         25784 non-null  int64  \n",
      " 20  availability_365        25784 non-null  int64  \n",
      " 21  reviews_per_month       15852 non-null  float64\n",
      "dtypes: float64(5), int64(11), object(6)\n",
      "memory usage: 4.3+ MB\n"
     ]
    }
   ],
   "source": [
    "listings_red.info()"
   ]
  },
  {
   "cell_type": "markdown",
   "metadata": {},
   "source": [
    "# Tratamento das variáveis objeto"
   ]
  },
  {
   "cell_type": "markdown",
   "metadata": {},
   "source": [
    "## Variável preço"
   ]
  },
  {
   "cell_type": "markdown",
   "metadata": {},
   "source": [
    "### Conversão em variável numérica"
   ]
  },
  {
   "cell_type": "code",
   "execution_count": 184,
   "metadata": {},
   "outputs": [
    {
     "name": "stderr",
     "output_type": "stream",
     "text": [
      "C:\\ProgramData\\Anaconda3\\lib\\site-packages\\ipykernel_launcher.py:1: FutureWarning: The default value of regex will change from True to False in a future version.\n",
      "  \"\"\"Entry point for launching an IPython kernel.\n",
      "C:\\ProgramData\\Anaconda3\\lib\\site-packages\\ipykernel_launcher.py:1: SettingWithCopyWarning: \n",
      "A value is trying to be set on a copy of a slice from a DataFrame.\n",
      "Try using .loc[row_indexer,col_indexer] = value instead\n",
      "\n",
      "See the caveats in the documentation: https://pandas.pydata.org/pandas-docs/stable/user_guide/indexing.html#returning-a-view-versus-a-copy\n",
      "  \"\"\"Entry point for launching an IPython kernel.\n"
     ]
    }
   ],
   "source": [
    "listings_red['price']=listings_red['price'].str.replace('[$,]','').astype(float)"
   ]
  },
  {
   "cell_type": "markdown",
   "metadata": {},
   "source": [
    "### Verificação de outliers"
   ]
  },
  {
   "cell_type": "markdown",
   "metadata": {},
   "source": [
    "Criação da variável preço por pessoa, que é uma métrica mais verossímel para algumas análises"
   ]
  },
  {
   "cell_type": "code",
   "execution_count": 185,
   "metadata": {},
   "outputs": [
    {
     "name": "stderr",
     "output_type": "stream",
     "text": [
      "C:\\ProgramData\\Anaconda3\\lib\\site-packages\\ipykernel_launcher.py:1: SettingWithCopyWarning: \n",
      "A value is trying to be set on a copy of a slice from a DataFrame.\n",
      "Try using .loc[row_indexer,col_indexer] = value instead\n",
      "\n",
      "See the caveats in the documentation: https://pandas.pydata.org/pandas-docs/stable/user_guide/indexing.html#returning-a-view-versus-a-copy\n",
      "  \"\"\"Entry point for launching an IPython kernel.\n"
     ]
    }
   ],
   "source": [
    "listings_red['price_person']=listings_red['price'].div(listings_red['accommodates'])"
   ]
  },
  {
   "cell_type": "code",
   "execution_count": 186,
   "metadata": {},
   "outputs": [
    {
     "data": {
      "text/plain": [
       "66.66666666666667"
      ]
     },
     "execution_count": 186,
     "metadata": {},
     "output_type": "execute_result"
    }
   ],
   "source": [
    "listings_red.price_person.quantile(.25)"
   ]
  },
  {
   "cell_type": "code",
   "execution_count": 187,
   "metadata": {},
   "outputs": [
    {
     "data": {
      "text/plain": [
       "188.0"
      ]
     },
     "execution_count": 187,
     "metadata": {},
     "output_type": "execute_result"
    }
   ],
   "source": [
    "listings_red.price_person.quantile(.75)"
   ]
  },
  {
   "cell_type": "code",
   "execution_count": 188,
   "metadata": {},
   "outputs": [
    {
     "data": {
      "text/plain": [
       "118653.2"
      ]
     },
     "execution_count": 188,
     "metadata": {},
     "output_type": "execute_result"
    }
   ],
   "source": [
    "listings_red.price_person.max()"
   ]
  },
  {
   "cell_type": "markdown",
   "metadata": {},
   "source": [
    "Aparentemente existem valores estranhos. Eles serão filtrados usando tuckey fences."
   ]
  },
  {
   "cell_type": "code",
   "execution_count": 190,
   "metadata": {},
   "outputs": [],
   "source": [
    "q_low=listings_red[\"price_person\"].quantile(0.25)\n",
    "q_hi=listings_red[\"price_person\"].quantile(0.75)\n",
    "iqr=q_hi-q_low\n",
    "\n",
    "list_o=listings_red[((listings_red['price_person']) > (q_low-iqr)) & ((listings_red['price_person']) < (q_hi+iqr))]"
   ]
  },
  {
   "cell_type": "markdown",
   "metadata": {},
   "source": [
    "Variável list_o criada contemplando os dados sem outliers"
   ]
  },
  {
   "cell_type": "code",
   "execution_count": 191,
   "metadata": {},
   "outputs": [
    {
     "data": {
      "text/plain": [
       "4643.0"
      ]
     },
     "execution_count": 191,
     "metadata": {},
     "output_type": "execute_result"
    }
   ],
   "source": [
    "list_o.price.max()"
   ]
  },
  {
   "cell_type": "code",
   "execution_count": 192,
   "metadata": {},
   "outputs": [],
   "source": [
    "i_i,z=list_o.shape"
   ]
  },
  {
   "cell_type": "code",
   "execution_count": 195,
   "metadata": {},
   "outputs": [],
   "source": [
    "i_o,z=listings_red.shape"
   ]
  },
  {
   "cell_type": "code",
   "execution_count": 196,
   "metadata": {},
   "outputs": [
    {
     "data": {
      "text/plain": [
       "0.10715947874650944"
      ]
     },
     "execution_count": 196,
     "metadata": {},
     "output_type": "execute_result"
    }
   ],
   "source": [
    "1-i_i/i_o"
   ]
  },
  {
   "cell_type": "markdown",
   "metadata": {},
   "source": [
    "Apenas 10.7 % dos dados foram perdidos, o que não justificar imputar tais dados."
   ]
  },
  {
   "cell_type": "code",
   "execution_count": 199,
   "metadata": {},
   "outputs": [
    {
     "name": "stdout",
     "output_type": "stream",
     "text": [
      "<class 'pandas.core.frame.DataFrame'>\n",
      "Int64Index: 23021 entries, 0 to 25783\n",
      "Data columns (total 23 columns):\n",
      " #   Column                  Non-Null Count  Dtype  \n",
      "---  ------                  --------------  -----  \n",
      " 0   property_type           23021 non-null  object \n",
      " 1   room_type               23021 non-null  object \n",
      " 2   accommodates            23021 non-null  int64  \n",
      " 3   bathrooms_text          22974 non-null  object \n",
      " 4   bedrooms                21407 non-null  float64\n",
      " 5   beds                    22814 non-null  float64\n",
      " 6   amenities               23021 non-null  object \n",
      " 7   price                   23021 non-null  float64\n",
      " 8   minimum_nights          23021 non-null  int64  \n",
      " 9   maximum_nights          23021 non-null  int64  \n",
      " 10  minimum_minimum_nights  23021 non-null  int64  \n",
      " 11  maximum_minimum_nights  23021 non-null  int64  \n",
      " 12  minimum_maximum_nights  23021 non-null  int64  \n",
      " 13  maximum_maximum_nights  23021 non-null  int64  \n",
      " 14  minimum_nights_avg_ntm  23021 non-null  float64\n",
      " 15  maximum_nights_avg_ntm  23021 non-null  float64\n",
      " 16  has_availability        23021 non-null  object \n",
      " 17  availability_30         23021 non-null  int64  \n",
      " 18  availability_60         23021 non-null  int64  \n",
      " 19  availability_90         23021 non-null  int64  \n",
      " 20  availability_365        23021 non-null  int64  \n",
      " 21  reviews_per_month       14935 non-null  float64\n",
      " 22  price_person            23021 non-null  float64\n",
      "dtypes: float64(7), int64(11), object(5)\n",
      "memory usage: 4.2+ MB\n"
     ]
    }
   ],
   "source": [
    "list_o.info()"
   ]
  },
  {
   "cell_type": "markdown",
   "metadata": {},
   "source": [
    "## Variável tipo de propriedade"
   ]
  },
  {
   "cell_type": "code",
   "execution_count": null,
   "metadata": {},
   "outputs": [],
   "source": []
  },
  {
   "cell_type": "markdown",
   "metadata": {},
   "source": [
    "## Variável banheiro"
   ]
  },
  {
   "cell_type": "markdown",
   "metadata": {},
   "source": [
    "### Conversão em variável numérica"
   ]
  },
  {
   "cell_type": "code",
   "execution_count": 197,
   "metadata": {},
   "outputs": [
    {
     "data": {
      "text/plain": [
       "0            1 bath\n",
       "1            1 bath\n",
       "2         1.5 baths\n",
       "3            1 bath\n",
       "4            1 bath\n",
       "6    1 private bath\n",
       "7         3.5 baths\n",
       "8            1 bath\n",
       "Name: bathrooms_text, dtype: object"
      ]
     },
     "execution_count": 197,
     "metadata": {},
     "output_type": "execute_result"
    }
   ],
   "source": [
    "list_o.bathrooms_text.head(8)"
   ]
  },
  {
   "cell_type": "code",
   "execution_count": 162,
   "metadata": {},
   "outputs": [
    {
     "data": {
      "text/plain": [
       "count      22974\n",
       "unique        44\n",
       "top       1 bath\n",
       "freq        9523\n",
       "Name: bathrooms_text, dtype: object"
      ]
     },
     "execution_count": 162,
     "metadata": {},
     "output_type": "execute_result"
    }
   ],
   "source": [
    "list_o.bathrooms_text.describe()"
   ]
  },
  {
   "cell_type": "markdown",
   "metadata": {},
   "source": [
    "A variável banheiro é um objeto com 44 categorias. No tratamento o valor numérico será considerado."
   ]
  },
  {
   "cell_type": "code",
   "execution_count": 220,
   "metadata": {},
   "outputs": [],
   "source": [
    "baths = list_o['bathrooms_text'].value_counts().to_frame()"
   ]
  },
  {
   "cell_type": "code",
   "execution_count": 221,
   "metadata": {},
   "outputs": [],
   "source": [
    "baths['baths'] = baths.index.str.extract('([0-9\\.]{1,3}[0-9]?)').values"
   ]
  },
  {
   "cell_type": "code",
   "execution_count": 222,
   "metadata": {},
   "outputs": [
    {
     "name": "stderr",
     "output_type": "stream",
     "text": [
      "C:\\ProgramData\\Anaconda3\\lib\\site-packages\\ipykernel_launcher.py:1: SettingWithCopyWarning: \n",
      "A value is trying to be set on a copy of a slice from a DataFrame.\n",
      "Try using .loc[row_indexer,col_indexer] = value instead\n",
      "\n",
      "See the caveats in the documentation: https://pandas.pydata.org/pandas-docs/stable/user_guide/indexing.html#returning-a-view-versus-a-copy\n",
      "  \"\"\"Entry point for launching an IPython kernel.\n"
     ]
    }
   ],
   "source": [
    "list_o['baths'] = list_o['bathrooms_text'].map(baths['baths'].to_dict()).astype(float)"
   ]
  },
  {
   "cell_type": "markdown",
   "metadata": {},
   "source": [
    "Os valores faltantes de n_baths serão imputados usando a mediana."
   ]
  },
  {
   "cell_type": "code",
   "execution_count": 223,
   "metadata": {},
   "outputs": [
    {
     "data": {
      "text/plain": [
       "0        1.0\n",
       "1        1.0\n",
       "2        1.5\n",
       "3        1.0\n",
       "4        1.0\n",
       "        ... \n",
       "25777    2.5\n",
       "25778    1.5\n",
       "25780    1.0\n",
       "25781    2.0\n",
       "25783    1.0\n",
       "Name: baths, Length: 23021, dtype: float64"
      ]
     },
     "execution_count": 223,
     "metadata": {},
     "output_type": "execute_result"
    }
   ],
   "source": [
    "list_o['baths']"
   ]
  },
  {
   "cell_type": "markdown",
   "metadata": {},
   "source": [
    "### Verificação de outliers"
   ]
  },
  {
   "cell_type": "code",
   "execution_count": 230,
   "metadata": {},
   "outputs": [
    {
     "data": {
      "text/plain": [
       "0.0"
      ]
     },
     "execution_count": 230,
     "metadata": {},
     "output_type": "execute_result"
    }
   ],
   "source": [
    "list_o['baths'].min()"
   ]
  },
  {
   "cell_type": "code",
   "execution_count": 231,
   "metadata": {},
   "outputs": [
    {
     "data": {
      "text/plain": [
       "20.0"
      ]
     },
     "execution_count": 231,
     "metadata": {},
     "output_type": "execute_result"
    }
   ],
   "source": [
    "list_o['baths'].max()"
   ]
  },
  {
   "cell_type": "markdown",
   "metadata": {},
   "source": [
    "Aparentemente não há outliers na variável baths"
   ]
  },
  {
   "cell_type": "code",
   "execution_count": null,
   "metadata": {},
   "outputs": [],
   "source": []
  }
 ],
 "metadata": {
  "kernelspec": {
   "display_name": "Python 3",
   "language": "python",
   "name": "python3"
  },
  "language_info": {
   "codemirror_mode": {
    "name": "ipython",
    "version": 3
   },
   "file_extension": ".py",
   "mimetype": "text/x-python",
   "name": "python",
   "nbconvert_exporter": "python",
   "pygments_lexer": "ipython3",
   "version": "3.7.6"
  }
 },
 "nbformat": 4,
 "nbformat_minor": 4
}
